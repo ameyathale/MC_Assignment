{
  "nbformat": 4,
  "nbformat_minor": 0,
  "metadata": {
    "colab": {
      "name": "train.ipynb",
      "provenance": [],
      "collapsed_sections": []
    },
    "kernelspec": {
      "name": "python3",
      "display_name": "Python 3"
    }
  },
  "cells": [
    {
      "cell_type": "code",
      "metadata": {
        "id": "CukYWmLRGuZx",
        "colab_type": "code",
        "colab": {}
      },
      "source": [
        "from sklearn import preprocessing\n",
        "from sklearn.decomposition import PCA\n",
        "from sklearn import model_selection\n",
        "from sklearn.linear_model import LogisticRegression\n",
        "from sklearn .naive_bayes import GaussianNB\n",
        "from sklearn.neighbors import KNeighborsClassifier\n",
        "from sklearn.ensemble import RandomForestClassifier\n",
        "from sklearn.tree import DecisionTreeClassifier\n",
        "from sklearn import svm\n",
        "from sklearn.utils import shuffle\n",
        "from sklearn.metrics import precision_recall_fscore_support\n",
        "import pickle\n",
        "\n",
        "import json\n",
        "import numpy as np\n",
        "import pandas as pd\n",
        "import os\n",
        "from scipy.fftpack import fft, ifft\n",
        "\n",
        "from dtw import dtw\n",
        "\n",
        "from sklearn import preprocessing\n",
        "from sklearn.decomposition import PCA\n",
        "from sklearn import model_selection\n",
        "from sklearn.linear_model import LogisticRegression\n",
        "from sklearn .naive_bayes import GaussianNB\n",
        "from sklearn.neighbors import KNeighborsClassifier\n",
        "from sklearn.ensemble import RandomForestClassifier\n",
        "from sklearn.tree import DecisionTreeClassifier\n",
        "from sklearn import svm\n",
        "from sklearn.ensemble import GradientBoostingClassifier, ExtraTreesClassifier\n",
        "from sklearn.utils import shuffle\n",
        "from sklearn.metrics import precision_recall_fscore_support\n",
        "import pickle\n",
        "import pandas as pd\n",
        "import glob\n",
        "from scipy import fftpack as fft\n",
        "import pywt\n",
        "import numpy as np"
      ],
      "execution_count": 0,
      "outputs": []
    },
    {
      "cell_type": "code",
      "metadata": {
        "id": "Xqa0_jLIZ6ux",
        "colab_type": "code",
        "colab": {}
      },
      "source": [
        "def dynamicTimeWarpDistance(df):\n",
        "    manhattan_distance = lambda x, y: np.abs(x - y)\n",
        "    dtw_distance = []\n",
        "    for i in range(df.shape[0]-1):\n",
        "      temp, _, _, _ = dtw(df.iloc[i,:52], df.iloc[i+1,:52], dist=manhattan_distance)\n",
        "      dtw_distance.append(temp)\n",
        "    dtw_distance.append(0)\n",
        "    return pd.DataFrame(data=np.array(dtw_distance))"
      ],
      "execution_count": 0,
      "outputs": []
    },
    {
      "cell_type": "code",
      "metadata": {
        "id": "Em9i33IQj9Dr",
        "colab_type": "code",
        "colab": {}
      },
      "source": [
        "def fastFourierTransform(df):\n",
        "    fastFourierTransform_df = fft.rfft(df, n=5, axis=1)\n",
        "    return pd.DataFrame(data=fastFourierTransform_df)"
      ],
      "execution_count": 0,
      "outputs": []
    },
    {
      "cell_type": "code",
      "metadata": {
        "id": "GH9e_sa6j_uO",
        "colab_type": "code",
        "colab": {}
      },
      "source": [
        "def discreteWaveletTransform(df):\n",
        "    cA, cD = pywt.dwt(df, 'haar')\n",
        "    return pd.DataFrame(cA),pd.DataFrame(cD)"
      ],
      "execution_count": 0,
      "outputs": []
    },
    {
      "cell_type": "code",
      "metadata": {
        "id": "oTXNx1ZfkB01",
        "colab_type": "code",
        "colab": {}
      },
      "source": [
        "def universalNormalization(df):\n",
        "    cols1=['nose_x', 'nose_y','leftEye_x', 'leftEye_y','rightEye_x', 'rightEye_y','rightShoulder_x', 'rightShoulder_y', 'leftWrist_x',\n",
        "       'leftWrist_y', 'rightWrist_x', 'rightWrist_y']\n",
        "    \n",
        "    cols2=['leftWrist_x', 'leftWrist_y', 'rightWrist_x', 'rightWrist_y']\n",
        "    \n",
        "    X=df[cols1]\n",
        "    \n",
        "    X['leftWrist_x']=(X['leftWrist_x']-X['nose_x'])/(X['leftEye_x']-X['rightEye_x'])\n",
        "    X['leftWrist_y']=(X['leftWrist_y']-X['nose_y'])/(X['nose_y']-X['rightShoulder_y'])\n",
        "    \n",
        "    X['rightWrist_x']=(X['rightWrist_x']-X['nose_x'])/(X['leftEye_x']-X['rightEye_x'])\n",
        "    X['rightWrist_y']=(X['rightWrist_y']-X['nose_y'])/(X['nose_y']-X['rightShoulder_y'])\n",
        "    \n",
        "    data=X[cols2]\n",
        "    \n",
        "    fft_df = fastFourierTransform(data)\n",
        "    ca,cd = discreteWaveletTransform(data)\n",
        "    dtw_df = dynamicTimeWarpDistance(data)\n",
        "    \n",
        "    features_data=pd.concat([X,fft_df,ca,cd, dtw_df],axis=1,ignore_index=True)\n",
        "    \n",
        "    labelValue=df['label']\n",
        "    \n",
        "    return features_data, labelValue"
      ],
      "execution_count": 0,
      "outputs": []
    },
    {
      "cell_type": "code",
      "metadata": {
        "id": "V8C6aDGhmf5T",
        "colab_type": "code",
        "colab": {}
      },
      "source": [
        "df = pd.read_csv(\"key_points.csv\")\n",
        "df = df.drop(columns=\"Frames#\")\n",
        "\n",
        "X,Y = universalNormalization(df)"
      ],
      "execution_count": 0,
      "outputs": []
    },
    {
      "cell_type": "code",
      "metadata": {
        "id": "7REWYA8kG9V2",
        "colab_type": "code",
        "colab": {}
      },
      "source": [
        "def kFoldCrossValidation(X,Y):\n",
        "\n",
        "    kfold = model_selection.KFold(n_splits=10, random_state=42)\n",
        "    # model = LogisticRegression()   \n",
        "    # model = GaussianNB()  \n",
        "    # model = svm.NuSVC(gamma='auto')   \n",
        "    # model = KNeighborsClassifier(n_neighbors=10, algorithm='auto' )  \n",
        "    # model = RandomForestClassifier()   \n",
        "    # model = DecisionTreeClassifier()   \n",
        "    \n",
        "    results = model_selection.cross_val_score(model, X, Y, cv=kfold)\n",
        "    print(\"Accuracy after KFold Cross Validation: %.3f%% \" % (results.mean()*100.0)) "
      ],
      "execution_count": 0,
      "outputs": []
    },
    {
      "cell_type": "code",
      "metadata": {
        "id": "50pW0ZoUnKOR",
        "colab_type": "code",
        "colab": {}
      },
      "source": [
        "kFoldCrossValidation(X,Y)"
      ],
      "execution_count": 0,
      "outputs": []
    },
    {
      "cell_type": "code",
      "metadata": {
        "id": "pTH0WFs3G_rz",
        "colab_type": "code",
        "colab": {}
      },
      "source": [
        "def finalModelTestTrain(X,Y):\n",
        "    \n",
        "    #select maximum accuracy model\n",
        "    # model = LogisticRegression()   \n",
        "    model = GaussianNB()  \n",
        "    # model = svm.NuSVC(gamma='auto')   \n",
        "    # model = KNeighborsClassifier(n_neighbors=10, algorithm='auto' )  \n",
        "    # model = RandomForestClassifier()   \n",
        "    # model = DecisionTreeClassifier()   \n",
        "\n",
        "    test_size = 0.25\n",
        "    seed = 0\n",
        "    \n",
        "    X_train, X_test, Y_train, Y_test = model_selection.train_test_split(X, Y, test_size=test_size, random_state=seed)\n",
        "\n",
        "    model.fit(X_train, Y_train)\n",
        "\n",
        "    filename = 'gnb.pkl'\n",
        "    pickle.dump(model, open(filename, 'wb'))\n",
        "     \n",
        "\n",
        "    loaded_model = pickle.load(open(filename, 'rb'))\n",
        "    y_pred=loaded_model.predict(X_test)\n",
        "    \n",
        "    result = loaded_model.score(X_test, Y_test)\n",
        "    print(\"Accuracy of Trained Model: %.3f%% \" % (result*100.0))\n",
        "    print(\"Precison, Recall, F Socre:\")\n",
        "    print(precision_recall_fscore_support(Y_test, y_pred, average='macro'))"
      ],
      "execution_count": 0,
      "outputs": []
    },
    {
      "cell_type": "code",
      "metadata": {
        "id": "VeAPLF-rnRjr",
        "colab_type": "code",
        "colab": {}
      },
      "source": [
        "finalModelTestTrain(X,Y)"
      ],
      "execution_count": 0,
      "outputs": []
    }
  ]
}